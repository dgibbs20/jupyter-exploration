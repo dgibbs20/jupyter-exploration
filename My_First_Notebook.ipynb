{
  "nbformat": 4,
  "nbformat_minor": 0,
  "metadata": {
    "colab": {
      "provenance": []
    },
    "kernelspec": {
      "name": "python3",
      "display_name": "Python 3"
    },
    "language_info": {
      "name": "python"
    }
  },
  "cells": [
    {
      "cell_type": "code",
      "execution_count": 1,
      "metadata": {
        "id": "abA5VjU0vPhc",
        "colab": {
          "base_uri": "https://localhost:8080/"
        },
        "outputId": "7d27fc7b-5e35-4d10-fd48-b83fea4a4cee"
      },
      "outputs": [
        {
          "output_type": "stream",
          "name": "stdout",
          "text": [
            "Hello, World!\n"
          ]
        }
      ],
      "source": [
        "print(\"Hello, World!\")"
      ]
    },
    {
      "cell_type": "markdown",
      "source": [
        "My first Jupyter Notebook"
      ],
      "metadata": {
        "id": "qYC_8jpsOGOR"
      }
    }
  ]
}